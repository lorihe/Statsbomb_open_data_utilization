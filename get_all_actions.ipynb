{
 "cells": [
  {
   "cell_type": "code",
   "execution_count": 1,
   "id": "a4302179",
   "metadata": {},
   "outputs": [],
   "source": [
    "import dash\n",
    "from dash import Dash, html, dcc\n",
    "import dash_bootstrap_components as dbc\n",
    "from dash.dependencies import Input,Output\n",
    "import requests\n",
    "import plotly.graph_objects as go\n",
    "from plotly.subplots import make_subplots\n",
    "import json"
   ]
  },
  {
   "cell_type": "code",
   "execution_count": 2,
   "id": "05d29839",
   "metadata": {},
   "outputs": [],
   "source": [
    "def load_json(url):\n",
    "    '''\n",
    "    Load json data from the given URL.\n",
    "    '''\n",
    "    response = requests.get(url)\n",
    "    return response.json()"
   ]
  },
  {
   "cell_type": "code",
   "execution_count": 3,
   "id": "69e23148",
   "metadata": {},
   "outputs": [],
   "source": [
    "url_WC_2023 = 'https://raw.githubusercontent.com/statsbomb/open-data/master/data/matches/72/107.json'\n",
    "json_data_2023 = load_json(url_WC_2023)"
   ]
  },
  {
   "cell_type": "code",
   "execution_count": 4,
   "id": "53950b0e",
   "metadata": {},
   "outputs": [],
   "source": [
    "match_list = [str(match['match_id']) for match in json_data_2023]"
   ]
  },
  {
   "cell_type": "code",
   "execution_count": 5,
   "id": "aa57b061",
   "metadata": {},
   "outputs": [],
   "source": [
    "positions = ['centerback', 'fullback', 'midfielder', 'winger', 'striker']"
   ]
  },
  {
   "cell_type": "code",
   "execution_count": 8,
   "id": "13e1afc0",
   "metadata": {},
   "outputs": [],
   "source": [
    "position_id_dict = {'centerback':[3,4,5],\n",
    "                    'fullback':[2,6,7,8],\n",
    "                    'midfielder':[9,10,11,13,14,15,18,19,20],\n",
    "                    'winger':[12,16,17,21],\n",
    "                    'striker':[22,23,24,25]}"
   ]
  },
  {
   "cell_type": "code",
   "execution_count": 48,
   "id": "7282f9a7",
   "metadata": {},
   "outputs": [],
   "source": [
    "all_receipt = {}"
   ]
  },
  {
   "cell_type": "code",
   "execution_count": 49,
   "id": "176410e6",
   "metadata": {},
   "outputs": [],
   "source": [
    "for p in positions:\n",
    "    receipts = []\n",
    "    for m in match_list:\n",
    "        url = f'https://raw.githubusercontent.com/statsbomb/open-data/master/data/events/{m}.json'\n",
    "        js = load_json(url)\n",
    "        r = [e['location'] for e in js if 'position' in e and 'location' in e\n",
    "                and e['position']['id'] in position_id_dict[p]\n",
    "                and e['type']['id'] == 42]\n",
    "\n",
    "        receipts += r\n",
    "    all_receipt[p] = receipts"
   ]
  },
  {
   "cell_type": "code",
   "execution_count": 50,
   "id": "680a8d51",
   "metadata": {},
   "outputs": [],
   "source": [
    "with open('json/all_receipt.json', \"w\") as json_file:\n",
    "    json.dump(all_receipt, json_file)"
   ]
  },
  {
   "cell_type": "code",
   "execution_count": 51,
   "id": "c9864c92",
   "metadata": {},
   "outputs": [],
   "source": [
    "all_defence = {}"
   ]
  },
  {
   "cell_type": "code",
   "execution_count": 52,
   "id": "da883a93",
   "metadata": {},
   "outputs": [],
   "source": [
    "for p in positions:\n",
    "    defences = []\n",
    "    for m in match_list:\n",
    "        url = f'https://raw.githubusercontent.com/statsbomb/open-data/master/data/events/{m}.json'\n",
    "        js = load_json(url)\n",
    "        d = [e['location'] for e in js if 'position' in e and 'location' in e\n",
    "                and e['position']['id'] in position_id_dict[p]\n",
    "                and e['type']['id'] in [4,9,10]]\n",
    "        \n",
    "        defences += d\n",
    "    all_defence[p] = defences"
   ]
  },
  {
   "cell_type": "code",
   "execution_count": 53,
   "id": "74221511",
   "metadata": {},
   "outputs": [],
   "source": [
    "with open('json/all_defence.json', \"w\") as json_file:\n",
    "    json.dump(all_defence, json_file)"
   ]
  },
  {
   "cell_type": "code",
   "execution_count": 17,
   "id": "82e767da",
   "metadata": {},
   "outputs": [],
   "source": [
    "all_pass = {}"
   ]
  },
  {
   "cell_type": "code",
   "execution_count": 18,
   "id": "8957215c",
   "metadata": {},
   "outputs": [],
   "source": [
    "for p in positions:\n",
    "    passes = []\n",
    "    for m in match_list:\n",
    "        url = f'https://raw.githubusercontent.com/statsbomb/open-data/master/data/events/{m}.json'\n",
    "        js = load_json(url)\n",
    "        pa = [e['pass'] for e in js if 'position' in e\n",
    "                and e['position']['id'] in position_id_dict[p]\n",
    "                and e['type']['id'] == 30]\n",
    "        pa_f = [{'length': e['length'], 'angle': e['angle']} for e in pa]\n",
    "        passes += pa_f\n",
    "    all_pass[p] = passes"
   ]
  },
  {
   "cell_type": "code",
   "execution_count": 20,
   "id": "d9b0af58",
   "metadata": {},
   "outputs": [],
   "source": [
    "with open('json/all_pass.json', \"w\") as json_file:\n",
    "    json.dump(all_pass, json_file)"
   ]
  },
  {
   "cell_type": "code",
   "execution_count": 6,
   "id": "59bd95ea",
   "metadata": {},
   "outputs": [],
   "source": [
    "all_shot = {}"
   ]
  },
  {
   "cell_type": "code",
   "execution_count": 11,
   "id": "1a6dc473",
   "metadata": {},
   "outputs": [],
   "source": [
    "for p in positions:\n",
    "    shots = []\n",
    "    for m in match_list:\n",
    "        url = f'https://raw.githubusercontent.com/statsbomb/open-data/master/data/events/{m}.json'\n",
    "        js = load_json(url)\n",
    "        sh = [e['location'] for e in js if 'position' in e\n",
    "                and e['position']['id'] in position_id_dict[p]\n",
    "                and e['type']['id'] == 16]\n",
    "\n",
    "        shots += sh\n",
    "    all_shot[p] = shots"
   ]
  },
  {
   "cell_type": "code",
   "execution_count": 12,
   "id": "adbc2c18",
   "metadata": {},
   "outputs": [],
   "source": [
    "with open('json/all_shot.json', \"w\") as json_file:\n",
    "    json.dump(all_shot, json_file)"
   ]
  },
  {
   "cell_type": "code",
   "execution_count": 13,
   "id": "ebd4740c",
   "metadata": {},
   "outputs": [],
   "source": [
    "all_carry = {}"
   ]
  },
  {
   "cell_type": "code",
   "execution_count": 14,
   "id": "087dbf10",
   "metadata": {},
   "outputs": [],
   "source": [
    "for p in positions:\n",
    "    carrys = []\n",
    "    for m in match_list:\n",
    "        url = f'https://raw.githubusercontent.com/statsbomb/open-data/master/data/events/{m}.json'\n",
    "        js = load_json(url)\n",
    "        c = [e['duration'] for e in js if 'position' in e\n",
    "                and e['position']['id'] in position_id_dict[p]\n",
    "                and e['type']['id'] == 43]\n",
    "\n",
    "        carrys += c\n",
    "    all_carry[p] = carrys"
   ]
  },
  {
   "cell_type": "code",
   "execution_count": 15,
   "id": "c8a5854a",
   "metadata": {},
   "outputs": [],
   "source": [
    "with open('json/all_carry.json', \"w\") as json_file:\n",
    "    json.dump(all_carry, json_file)"
   ]
  },
  {
   "cell_type": "code",
   "execution_count": null,
   "id": "bf9088a4",
   "metadata": {},
   "outputs": [],
   "source": []
  }
 ],
 "metadata": {
  "kernelspec": {
   "display_name": "statsbomb",
   "language": "python",
   "name": "statsbomb"
  },
  "language_info": {
   "codemirror_mode": {
    "name": "ipython",
    "version": 3
   },
   "file_extension": ".py",
   "mimetype": "text/x-python",
   "name": "python",
   "nbconvert_exporter": "python",
   "pygments_lexer": "ipython3",
   "version": "3.11.4"
  }
 },
 "nbformat": 4,
 "nbformat_minor": 5
}
